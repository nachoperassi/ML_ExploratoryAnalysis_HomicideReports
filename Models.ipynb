{
 "cells": [
  {
   "cell_type": "markdown",
   "metadata": {},
   "source": [
    "# Variables to use\n",
    "## The complete set of variables could be found on the 'EDA' notebook. There we also specified the reason why we use this subset of variables"
   ]
  },
  {
   "cell_type": "markdown",
   "metadata": {},
   "source": [
    "## Inputs\n",
    "\n",
    "<table>\n",
    "    <tr>\n",
    "        <th style=\"text-align: center;\">Variable</td>\n",
    "        <th style=\"text-align: center;\">Description</td>\n",
    "    </tr>\n",
    "    <tr>\n",
    "        <td style=\"text-align: center;\">Agency Code</td>\n",
    "        <td style=\"text-align: center;\">6 digits alphanumeric code of the agency</td>\n",
    "    </tr>\n",
    "    <tr>\n",
    "        <td style=\"text-align: center;\">Agency Type</td>\n",
    "        <td style=\"text-align: center;\">The type of agency</td>\n",
    "    </tr>\n",
    "    <tr>\n",
    "        <td style=\"text-align: center;\">State</td>\n",
    "        <td style=\"text-align: center;\">The name of the state where the homicide happened</td>\n",
    "    </tr>\n",
    "    <tr>\n",
    "        <td style=\"text-align: center;\">Year</td>\n",
    "        <td style=\"text-align: center;\">The year of the homicide</td>\n",
    "    </tr>\n",
    "    <tr>\n",
    "        <td style=\"text-align: center;\">Month</td>\n",
    "        <td style=\"text-align: center;\">The month of the homicide</td>\n",
    "    </tr>\n",
    "    <tr>\n",
    "        <td style=\"text-align: center;\">Crime Type</td>\n",
    "        <td style=\"text-align: center;\">The type of crime</td>\n",
    "    </tr>\n",
    "    <tr>\n",
    "        <td style=\"text-align: center;\">Victim Sex</td>\n",
    "        <td style=\"text-align: center;\">The sex of the victim</td>\n",
    "    </tr>\n",
    "    <tr>\n",
    "        <td style=\"text-align: center;\">Victim Age</td>\n",
    "        <td style=\"text-align: center;\">The age of the victim</td>\n",
    "    </tr>\n",
    "    <tr>\n",
    "        <td style=\"text-align: center;\">Victim Race</td>\n",
    "        <td style=\"text-align: center;\">The race of the victim</td>\n",
    "    </tr>\n",
    "    <tr>\n",
    "        <td style=\"text-align: center;\">Victim Ethnicity</td>\n",
    "        <td style=\"text-align: center;\">The ethnicity of the victim</td>\n",
    "    </tr>\n",
    "    <tr>\n",
    "        <td style=\"text-align: center;\">Weapon</td>\n",
    "        <td style=\"text-align: center;\">The weapon used</td>\n",
    "    </tr>\n",
    "</table>"
   ]
  },
  {
   "cell_type": "markdown",
   "metadata": {},
   "source": [
    "## Output\n",
    "\n",
    "<table>\n",
    "    <tr>\n",
    "        <td style=\"text-align: center;\">**Crime Solved**</td>\n",
    "        <td style=\"text-align: center;\">Indicates whether the crime has been solved or not</td>\n",
    "    </tr>\n",
    "</table>"
   ]
  },
  {
   "cell_type": "markdown",
   "metadata": {},
   "source": [
    "# Preprocessing"
   ]
  },
  {
   "cell_type": "code",
   "execution_count": null,
   "metadata": {},
   "outputs": [],
   "source": [
    "import numpy as np\n",
    "import pandas as pd\n",
    "import zipfile\n",
    "\n",
    "# Extract the dataset\n",
    "zipfile.ZipFile(file='dataset.zip', mode='r').extractall()\n",
    "\n",
    "ds = pd.read_csv('dataset.csv')\n",
    "\n",
    "# Drop unused columns\n",
    "ds.drop(axis=1, inplace=True, labels=['Record ID', 'Agency Name', 'City', 'Incident', \n",
    "        'Perpetrator Sex', 'Perpetrator Age', 'Perpetrator Race', 'Perpetrator Ethnicity', \n",
    "        'Relationship', 'Victim Count', 'Perpetrator Count', 'Record Source'])\n",
    "\n",
    "# Column rename\n",
    "BETTER_COLUMNS_NAMES = {\n",
    "    'Agency Code': 'agency_code',\n",
    "    'Agency Type': 'agency_type',\n",
    "    'State': 'state',\n",
    "    'Year': 'year',\n",
    "    'Month': 'month',\n",
    "    'Crime Type': 'crime_type',\n",
    "    'Crime Solved': 'crime_solved',\n",
    "    'Victim Sex': 'victim_sex',\n",
    "    'Victim Age': 'victim_age',\n",
    "    'Victim Race': 'victim_race',\n",
    "    'Victim Ethnicity': 'victim_ethnicity',\n",
    "    'Weapon': 'weapon',\n",
    "}\n",
    "\n",
    "ds.rename(columns=BETTER_COLUMNS_NAMES, inplace=True)\n",
    "\n",
    "ds.columns"
   ]
  },
  {
   "cell_type": "markdown",
   "metadata": {},
   "source": [
    "# Splitting the dataset in train, test and validation"
   ]
  },
  {
   "cell_type": "code",
   "execution_count": null,
   "metadata": {},
   "outputs": [],
   "source": [
    "from sklearn.model_selection import train_test_split\n",
    "\n",
    "# 60% train, 30% test, 10% validation\n",
    "train, not_train = train_test_split(ds, test_size=0.4)\n",
    "validation, test = train_test_split(not_train, test_size=0.75)"
   ]
  },
  {
   "cell_type": "markdown",
   "metadata": {},
   "source": [
    "# First we define a generic function to evaluate the different models"
   ]
  },
  {
   "cell_type": "code",
   "execution_count": null,
   "metadata": {},
   "outputs": [],
   "source": [
    "from sklearn.metrics import precision_score, confusion_matrix\n",
    "from matplotlib import pyplot as plt\n",
    "%matplotlib inline\n",
    "def evaluate_model(model, extract_inputs_outputs, include_validation):\n",
    "    sets = [('train', train), ('test', test)]\n",
    "    if (include_validation):\n",
    "        sets.append(('validation', validation))\n",
    "    \n",
    "    for set_name, set_data in sets:\n",
    "        inputs, outputs = extract_inputs_outputs(set_data)        \n",
    "        \n",
    "        predictions = model.predict(inputs)\n",
    "        \n",
    "        predictions = predictions.astype(np.float64)\n",
    "        \n",
    "        print('Model evaluation on dataset:' + set_name)\n",
    "        \n",
    "        ###\n",
    "        print(outputs[:3])\n",
    "        print(predictions[:3])\n",
    "        \n",
    "        print('Precision score:' + precision_score(outputs, predictions))\n",
    "        \n",
    "        plt.figure(figsize=(3,4))\n",
    "        \n",
    "        plt.xticks([0, 1], ['not solved', 'solved'], rotation=45)\n",
    "        plt.yticks([0, 1], ['not solved', 'solved'])\n",
    "        plt.xlabel('Predicted class')\n",
    "        plt.ylabel('True class')\n",
    "\n",
    "        plt.title(set_name)\n",
    "\n",
    "        plt.imshow(\n",
    "            confusion_matrix(outputs, predictions),\n",
    "            cmap=plt.cm.Blues,\n",
    "            interpolation='nearest',\n",
    "        )\n",
    "\n",
    "        plt.show()\n",
    "        "
   ]
  },
  {
   "cell_type": "markdown",
   "metadata": {},
   "source": [
    "# First attempt: Logistic Regression"
   ]
  },
  {
   "cell_type": "code",
   "execution_count": null,
   "metadata": {},
   "outputs": [],
   "source": [
    "from sklearn.linear_model import LogisticRegression\n",
    "from sklearn.preprocessing import StandardScaler\n",
    "from sklearn.pipeline import Pipeline"
   ]
  },
  {
   "cell_type": "code",
   "execution_count": null,
   "metadata": {},
   "outputs": [],
   "source": [
    "ds.columns"
   ]
  },
  {
   "cell_type": "markdown",
   "metadata": {},
   "source": [
    "## Transforming categorical variables"
   ]
  },
  {
   "cell_type": "code",
   "execution_count": null,
   "metadata": {},
   "outputs": [],
   "source": [
    "import datetime as d\n",
    "\n",
    "def lr_extract_inputs_outputs(dataset):\n",
    "    ds = dataset.copy()\n",
    "    \n",
    "    # month format\n",
    "    ds.month = ds.month.apply(lambda x: d.datetime.strptime(x[:3], '%b').month)\n",
    "    \n",
    "    # agency code\n",
    "    ds.drop(columns=['agency_code'], inplace=True)\n",
    "    \n",
    "    # agency type\n",
    "    for agency_type in ds.agency_type.unique():\n",
    "        ds[agency_type.lower().replace(' ', '_')] = (ds.agency_type == agency_type)\n",
    "    ds.drop(columns=['agency_type'], inplace=True)\n",
    "    \n",
    "    # state\n",
    "    for state in ds.state.unique():\n",
    "        ds[state.lower().replace(' ', '_')] = (ds.state == state)\n",
    "    ds.drop(columns=['state'], inplace=True)\n",
    "        \n",
    "    # crime type\n",
    "    for crime_type in ds.crime_type.unique():\n",
    "        ds[crime_type.lower().replace(' ', '_')] = (ds.crime_type == crime_type)\n",
    "    ds.drop(columns=['crime_type'], inplace=True)\n",
    "        \n",
    "    # victim sex\n",
    "    ds = ds[ds.victim_sex != 'Unknown']\n",
    "    for victim_sex in ds.victim_sex.unique():\n",
    "        ds[victim_sex.lower().replace(' ', '_')] = (ds.victim_sex == victim_sex)\n",
    "    ds.drop(columns=['victim_sex'], inplace=True)\n",
    "        \n",
    "    # victim age\n",
    "    ds = ds[ds.victim_age != 998]\n",
    "\n",
    "    # victim race\n",
    "    ds = ds[ds.victim_race != 'Unknown']\n",
    "    for victim_race in ds.victim_race.unique():\n",
    "        ds[victim_race.lower().replace(' ','_')] = (ds.victim_race == victim_race)\n",
    "    ds.drop(columns=['victim_race'], inplace=True)\n",
    "\n",
    "    # victim ethnicity\n",
    "    ds.drop(columns=['victim_ethnicity'], inplace=True)\n",
    "\n",
    "    # weapon\n",
    "    ds = ds[ds.weapon != 'Unknown']\n",
    "    # join various weapon types into one\n",
    "    guns = ['Handgun', 'Firearm', 'Shotgun']\n",
    "    for gun in guns:\n",
    "        ds[ds.weapon == gun].weapon = 'Gun'\n",
    "\n",
    "    for weapon in ds.weapon.unique():\n",
    "        ds[weapon.lower().replace(' ', '_')] = (ds.weapon == weapon)\n",
    "    ds.drop(columns=['weapon'], inplace=True)\n",
    "    \n",
    "    print(ds.head())\n",
    "    \n",
    "    # crime_solved\n",
    "    ds['crime_solved'] = (ds.crime_solved == 'Yes')\n",
    "    \n",
    "    inputs = ds.drop(columns=['crime_solved'])\n",
    "    outputs = ds.crime_solved\n",
    "    \n",
    "    return [inputs.values.astype(np.float64), outputs.values.astype(np.float64)]"
   ]
  },
  {
   "cell_type": "markdown",
   "metadata": {},
   "source": [
    "## Model"
   ]
  },
  {
   "cell_type": "code",
   "execution_count": null,
   "metadata": {},
   "outputs": [],
   "source": [
    "lr_model = Pipeline([\n",
    "    ('scaler', StandardScaler()),\n",
    "    ('classifier', LogisticRegression())\n",
    "])"
   ]
  },
  {
   "cell_type": "code",
   "execution_count": null,
   "metadata": {},
   "outputs": [],
   "source": [
    "inputs, outputs = lr_extract_inputs_outputs(train)\n",
    "\n",
    "lr_model.fit(inputs, outputs)"
   ]
  },
  {
   "cell_type": "code",
   "execution_count": null,
   "metadata": {},
   "outputs": [],
   "source": [
    "evaluate_model(lr_model, lr_extract_inputs_outputs, include_validation=True)"
   ]
  },
  {
   "cell_type": "code",
   "execution_count": null,
   "metadata": {},
   "outputs": [],
   "source": [
    "# Germi & Nacho\n",
    "# Impriman lr_extract_inputs[0] y lr_extract_inputs[1] a ver que sale..\n",
    "# Prueben hacer predicciones (por fuera de evaluate model) e imprimanlas..\n",
    "# Investiguen qué tipos de datos espera precision_score()"
   ]
  },
  {
   "cell_type": "code",
   "execution_count": null,
   "metadata": {},
   "outputs": [],
   "source": []
  },
  {
   "cell_type": "code",
   "execution_count": null,
   "metadata": {},
   "outputs": [],
   "source": []
  }
 ],
 "metadata": {
  "kernelspec": {
   "display_name": "Python 3",
   "language": "python",
   "name": "python3"
  },
  "language_info": {
   "codemirror_mode": {
    "name": "ipython",
    "version": 3
   },
   "file_extension": ".py",
   "mimetype": "text/x-python",
   "name": "python",
   "nbconvert_exporter": "python",
   "pygments_lexer": "ipython3",
   "version": "3.6.4"
  }
 },
 "nbformat": 4,
 "nbformat_minor": 2
}
