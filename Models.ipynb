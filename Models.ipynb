{
 "cells": [
  {
   "cell_type": "markdown",
   "metadata": {},
   "source": [
    "# Predicting crimes resolutions"
   ]
  },
  {
   "cell_type": "markdown",
   "metadata": {},
   "source": [
    "Our objective is to predict the resolution of a crime based on victim's features, geographical and temporary data, and some other details like the weapon used and the type of agency where the crime was reported."
   ]
  },
  {
   "cell_type": "markdown",
   "metadata": {},
   "source": [
    "# Variables to use\n",
    "### The complete set of variables could be found on the 'EDA' notebook. There we also specified the reasons why we use this subset of variables"
   ]
  },
  {
   "cell_type": "markdown",
   "metadata": {},
   "source": [
    "## Inputs\n",
    "\n",
    "<table>\n",
    "    <tr>\n",
    "        <th style=\"text-align: center;\">Variable</td>\n",
    "        <th style=\"text-align: center;\">Description</td>\n",
    "    </tr>\n",
    "    <tr>\n",
    "        <td style=\"text-align: center;\">Agency Type</td>\n",
    "        <td style=\"text-align: center;\">The type of agency</td>\n",
    "    </tr>\n",
    "    <tr>\n",
    "        <td style=\"text-align: center;\">State</td>\n",
    "        <td style=\"text-align: center;\">The name of the state where the homicide happened</td>\n",
    "    </tr>\n",
    "    <tr>\n",
    "        <td style=\"text-align: center;\">Year</td>\n",
    "        <td style=\"text-align: center;\">The year of the homicide</td>\n",
    "    </tr>\n",
    "    <tr>\n",
    "        <td style=\"text-align: center;\">Month</td>\n",
    "        <td style=\"text-align: center;\">The month of the homicide</td>\n",
    "    </tr>\n",
    "    <tr>\n",
    "        <td style=\"text-align: center;\">Crime Type</td>\n",
    "        <td style=\"text-align: center;\">The type of crime</td>\n",
    "    </tr>\n",
    "    <tr>\n",
    "        <td style=\"text-align: center;\">Victim Sex</td>\n",
    "        <td style=\"text-align: center;\">The sex of the victim</td>\n",
    "    </tr>\n",
    "    <tr>\n",
    "        <td style=\"text-align: center;\">Victim Age</td>\n",
    "        <td style=\"text-align: center;\">The age of the victim</td>\n",
    "    </tr>\n",
    "    <tr>\n",
    "        <td style=\"text-align: center;\">Victim Race</td>\n",
    "        <td style=\"text-align: center;\">The race of the victim</td>\n",
    "    </tr>\n",
    "    <tr>\n",
    "        <td style=\"text-align: center;\">Weapon</td>\n",
    "        <td style=\"text-align: center;\">The weapon used</td>\n",
    "    </tr>\n",
    "</table>"
   ]
  },
  {
   "cell_type": "markdown",
   "metadata": {},
   "source": [
    "## Output\n",
    "\n",
    "<table>\n",
    "    <tr>\n",
    "        <td style=\"text-align: center;\">**Crime Solved**</td>\n",
    "        <td style=\"text-align: center;\">Indicates whether the crime has been solved or not</td>\n",
    "    </tr>\n",
    "</table>"
   ]
  },
  {
   "cell_type": "markdown",
   "metadata": {},
   "source": [
    "# The metric"
   ]
  },
  {
   "cell_type": "markdown",
   "metadata": {},
   "source": [
    "Our client said \"We don't want to create fake hope\"..\n",
    "It's preferable to say 'The crime won't be solved' and then it's solved, than say 'The crime will be solved' and then not.\n",
    "\n",
    "So, the most important thing is not to say 'Yes' if a crime was not solved.\n",
    "\n",
    "**We need to minimize the False positives:**\n",
    "True predictions that are False.\n",
    "\n",
    "The appropiate metric for this situations is **Precision: TP / (TP - FP)**\n",
    "\n",
    "Crimes predicted as 'solved' that were solved / Crimes predicted as 'solved'.\n",
    "\n",
    "\n",
    "The best value for this metric is 1 and the worst value is 0."
   ]
  },
  {
   "cell_type": "markdown",
   "metadata": {},
   "source": [
    "# 1) Preprocessing:\n",
    "## -Dataset extraction.\n",
    "## -Unused columns removal.\n",
    "## -Used columns rename."
   ]
  },
  {
   "cell_type": "code",
   "execution_count": 78,
   "metadata": {},
   "outputs": [
    {
     "name": "stderr",
     "output_type": "stream",
     "text": [
      "/home/nacho/.local/share/virtualenvs/machine-learning-OxPy3u81/lib/python3.5/site-packages/IPython/core/interactiveshell.py:2785: DtypeWarning: Columns (16) have mixed types. Specify dtype option on import or set low_memory=False.\n",
      "  interactivity=interactivity, compiler=compiler, result=result)\n"
     ]
    },
    {
     "data": {
      "text/plain": [
       "Index(['agency_type', 'state', 'year', 'month', 'crime_type', 'crime_solved',\n",
       "       'victim_sex', 'victim_age', 'victim_race', 'weapon'],\n",
       "      dtype='object')"
      ]
     },
     "execution_count": 78,
     "metadata": {},
     "output_type": "execute_result"
    }
   ],
   "source": [
    "import numpy as np\n",
    "import pandas as pd\n",
    "import zipfile\n",
    "\n",
    "# Extract the dataset\n",
    "zipfile.ZipFile(file='dataset.zip', mode='r').extractall()\n",
    "\n",
    "ds = pd.read_csv('dataset.csv')\n",
    "\n",
    "# Drop unused columns\n",
    "ds.drop(axis=1, inplace=True, labels=['Record ID', 'Agency Code','Agency Name', 'City', 'Incident', \n",
    "        'Perpetrator Sex', 'Perpetrator Age', 'Perpetrator Race', 'Perpetrator Ethnicity', \n",
    "        'Victim Ethnicity', 'Relationship', 'Victim Count', 'Perpetrator Count', 'Record Source'])\n",
    "\n",
    "# Column rename\n",
    "BETTER_COLUMNS_NAMES = {\n",
    "    'Agency Type': 'agency_type',\n",
    "    'State': 'state',\n",
    "    'Year': 'year',\n",
    "    'Month': 'month',\n",
    "    'Crime Type': 'crime_type',\n",
    "    'Crime Solved': 'crime_solved',\n",
    "    'Victim Sex': 'victim_sex',\n",
    "    'Victim Age': 'victim_age',\n",
    "    'Victim Race': 'victim_race',\n",
    "    'Weapon': 'weapon',\n",
    "}\n",
    "\n",
    "ds.rename(columns=BETTER_COLUMNS_NAMES, inplace=True)\n",
    "\n",
    "ds.columns"
   ]
  },
  {
   "cell_type": "markdown",
   "metadata": {},
   "source": [
    "## -Output variable balance"
   ]
  },
  {
   "cell_type": "code",
   "execution_count": 79,
   "metadata": {},
   "outputs": [
    {
     "name": "stdout",
     "output_type": "stream",
     "text": [
      "Yes    190282\n",
      "No     190282\n",
      "Name: crime_solved, dtype: int64\n"
     ]
    }
   ],
   "source": [
    "from sklearn.utils import shuffle\n",
    "\n",
    "# Left the crime_solved='Yes' rows at the end\n",
    "ds.sort_values(by='crime_solved', inplace=True)\n",
    "\n",
    "# Drop rows to get the same number of examples of 'Yes' and 'No'\n",
    "ds.drop(ds.index[-257890:], inplace=True)\n",
    "\n",
    "ds = shuffle(ds)\n",
    "\n",
    "print(ds.crime_solved.value_counts())"
   ]
  },
  {
   "cell_type": "markdown",
   "metadata": {},
   "source": [
    "## -Splitting the dataset into train, test and validation"
   ]
  },
  {
   "cell_type": "code",
   "execution_count": 80,
   "metadata": {},
   "outputs": [],
   "source": [
    "from sklearn.model_selection import train_test_split\n",
    "\n",
    "# 60% train, 30% test, 10% validation\n",
    "train, not_train = train_test_split(ds, test_size=0.4)\n",
    "validation, test = train_test_split(not_train, test_size=0.75)"
   ]
  },
  {
   "cell_type": "markdown",
   "metadata": {},
   "source": [
    "# 2) Defining a generic function to evaluate the different models"
   ]
  },
  {
   "cell_type": "code",
   "execution_count": 172,
   "metadata": {},
   "outputs": [],
   "source": [
    "from sklearn.metrics import precision_score, accuracy_score, confusion_matrix\n",
    "from matplotlib import pyplot as plt\n",
    "%matplotlib inline\n",
    "scaler = StandardScaler()\n",
    "\n",
    "def evaluate_model(model, extract_inputs_outputs, include_validation=False):\n",
    "    sets = [('train', train), ('test', test)]\n",
    "    if (include_validation):\n",
    "        sets.append(('validation', validation))\n",
    "    \n",
    "    for set_name, set_data in sets:\n",
    "        inputs, outputs = extract_inputs_outputs(set_data)\n",
    "\n",
    "        predictions = model.predict(inputs)\n",
    "\n",
    "        predictions = predictions.astype(np.float64).round()\n",
    "        \n",
    "        print('Model evaluation on dataset:' + set_name)\n",
    "        \n",
    "        print('Accuracy score:', accuracy_score(outputs, predictions))\n",
    "        \n",
    "        print('Precision score:', precision_score(outputs, predictions))\n",
    "        \n",
    "        plt.figure(figsize=(3,4))\n",
    "        \n",
    "        plt.xticks([0, 1], ['not solved', 'solved'], rotation=45)\n",
    "        plt.yticks([0, 1], ['not solved', 'solved'])\n",
    "        plt.xlabel('Predicted class')\n",
    "        plt.ylabel('True class')\n",
    "\n",
    "        plt.title(set_name)\n",
    "\n",
    "        plt.imshow(\n",
    "            confusion_matrix(outputs, predictions),\n",
    "            cmap=plt.cm.Blues,\n",
    "            interpolation='nearest',\n",
    "        )\n",
    "\n",
    "        plt.show()\n",
    "        "
   ]
  },
  {
   "cell_type": "markdown",
   "metadata": {},
   "source": [
    "# 3) Models:"
   ]
  },
  {
   "cell_type": "markdown",
   "metadata": {},
   "source": [
    "# First attempt: Logistic Regression"
   ]
  },
  {
   "cell_type": "code",
   "execution_count": 128,
   "metadata": {},
   "outputs": [],
   "source": [
    "from sklearn.linear_model import LogisticRegression\n",
    "from sklearn.preprocessing import StandardScaler\n",
    "from sklearn.pipeline import Pipeline"
   ]
  },
  {
   "cell_type": "markdown",
   "metadata": {},
   "source": [
    "(The main challenge here is to handle the categorical variables. This is a common preprocessing step where we have to convert any possible text value into a new column. It's necessary since the Logistic Regression only handles numbers)"
   ]
  },
  {
   "cell_type": "code",
   "execution_count": 177,
   "metadata": {},
   "outputs": [],
   "source": [
    "import datetime as d\n",
    "\n",
    "def lr_extract_inputs_outputs(dataset):\n",
    "    ds = dataset.copy()\n",
    "    \n",
    "    # month format\n",
    "    ds.month = ds.month.apply(lambda x: d.datetime.strptime(x[:3], '%b').month)\n",
    "    \n",
    "    # agency type\n",
    "    for agency_type in ds.agency_type.unique():\n",
    "        ds[agency_type.lower().replace(' ', '_')] = (ds.agency_type == agency_type)\n",
    "    ds.drop(columns=['agency_type'], inplace=True)\n",
    "    \n",
    "    # state\n",
    "    for state in ds.state.unique():\n",
    "        ds[state.lower().replace(' ', '_')] = (ds.state == state)\n",
    "    ds.drop(columns=['state'], inplace=True)\n",
    "        \n",
    "    # crime type\n",
    "    for crime_type in ds.crime_type.unique():\n",
    "        ds[crime_type.lower().replace(' ', '_')] = (ds.crime_type == crime_type)\n",
    "    ds.drop(columns=['crime_type'], inplace=True)\n",
    "        \n",
    "    # victim sex\n",
    "    ds = ds[ds.victim_sex != 'Unknown']\n",
    "    for victim_sex in ds.victim_sex.unique():\n",
    "        ds[victim_sex.lower().replace(' ', '_')] = (ds.victim_sex == victim_sex)\n",
    "    ds.drop(columns=['victim_sex'], inplace=True)\n",
    "        \n",
    "    # victim age\n",
    "    ds = ds[ds.victim_age != 998]\n",
    "\n",
    "    # victim race\n",
    "    ds = ds[ds.victim_race != 'Unknown']\n",
    "    for victim_race in ds.victim_race.unique():\n",
    "        ds[victim_race.lower().replace(' ','_')] = (ds.victim_race == victim_race)\n",
    "    ds.drop(columns=['victim_race'], inplace=True)\n",
    "\n",
    "    # weapon\n",
    "    ds = ds[ds.weapon != 'Unknown']\n",
    "\n",
    "    for weapon in ds.weapon.unique():\n",
    "        ds[weapon.lower().replace(' ', '_')] = (ds.weapon == weapon)\n",
    "    ds.drop(columns=['weapon'], inplace=True)\n",
    "    \n",
    "    # crime_solved\n",
    "    ds['crime_solved'] = (ds.crime_solved == 'Yes')\n",
    "    \n",
    "    inputs = ds.drop(columns=['crime_solved'])\n",
    "    outputs = ds.crime_solved\n",
    "    \n",
    "    return [scaler.fit_transform(inputs).astype(np.float64), outputs.values]"
   ]
  },
  {
   "cell_type": "code",
   "execution_count": 181,
   "metadata": {},
   "outputs": [],
   "source": [
    "lr_model = LogisticRegression()"
   ]
  },
  {
   "cell_type": "code",
   "execution_count": 182,
   "metadata": {},
   "outputs": [
    {
     "data": {
      "text/plain": [
       "LogisticRegression(C=1.0, class_weight=None, dual=False, fit_intercept=True,\n",
       "          intercept_scaling=1, max_iter=100, multi_class='ovr', n_jobs=1,\n",
       "          penalty='l2', random_state=None, solver='liblinear', tol=0.0001,\n",
       "          verbose=0, warm_start=False)"
      ]
     },
     "execution_count": 182,
     "metadata": {},
     "output_type": "execute_result"
    }
   ],
   "source": [
    "inputs, outputs = lr_extract_inputs_outputs(train)\n",
    "\n",
    "lr_model.fit(inputs, outputs)"
   ]
  },
  {
   "cell_type": "code",
   "execution_count": 183,
   "metadata": {},
   "outputs": [
    {
     "name": "stdout",
     "output_type": "stream",
     "text": [
      "Model evaluation on dataset:train\n",
      "Accuracy score: 0.749374292212674\n",
      "Precision score: 0.738296191769394\n"
     ]
    },
    {
     "data": {
      "image/png": "[encoded data removed]",
      "text/plain": [
       "<Figure size 216x288 with 1 Axes>"
      ]
     },
     "metadata": {},
     "output_type": "display_data"
    },
    {
     "name": "stdout",
     "output_type": "stream",
     "text": [
      "Model evaluation on dataset:test\n",
      "Accuracy score: 0.695926557927149\n",
      "Precision score: 0.6836289771831825\n"
     ]
    },
    {
     "data": {
      "image/png": "[encoded data removed]",
      "text/plain": [
       "<Figure size 216x288 with 1 Axes>"
      ]
     },
     "metadata": {},
     "output_type": "display_data"
    },
    {
     "name": "stdout",
     "output_type": "stream",
     "text": [
      "Model evaluation on dataset:validation\n",
      "Accuracy score: 0.7124896419693116\n",
      "Precision score: 0.6991159755840876\n"
     ]
    },
    {
     "data": {
      "image/png": "[encoded data removed]",
      "text/plain": [
       "<Figure size 216x288 with 1 Axes>"
      ]
     },
     "metadata": {},
     "output_type": "display_data"
    }
   ],
   "source": [
    "evaluate_model(lr_model, lr_extract_inputs_outputs, include_validation=True)"
   ]
  },
  {
   "cell_type": "markdown",
   "metadata": {},
   "source": [
    "## Conclusions:\n",
    "The logistic regression isn't doing it very well. The precission score for the test set was 0.68 and we can see on the confussion matrix that it's getting many False Positives. Clearly, we can't present this model to our client."
   ]
  },
  {
   "cell_type": "markdown",
   "metadata": {},
   "source": [
    "# 2nd model: Decision Trees"
   ]
  },
  {
   "cell_type": "markdown",
   "metadata": {},
   "source": [
    "(Here we faced the problem of converting every text value into a numeric one. In the case of the 'state' column it was a big work to map the 50 different values. Maybe a better approach would be to create the map in a dynamic way, as we can get the possible values of a column by ds.column_name.unique(). This could be an improvement for the future work)"
   ]
  },
  {
   "cell_type": "code",
   "execution_count": 157,
   "metadata": {},
   "outputs": [],
   "source": [
    "import datetime as d\n",
    "\n",
    "def dt_extract_inputs_outputs(dataset):\n",
    "    ds = dataset.copy()\n",
    "\n",
    "    # month format\n",
    "    ds.month = ds.month.apply(lambda x: d.datetime.strptime(x[:3], '%b').month)\n",
    "    \n",
    "    # victim sex\n",
    "    ds = ds[ds.victim_sex != 'Unknown']\n",
    "\n",
    "    # victim age\n",
    "    ds = ds[ds.victim_age != 998]\n",
    "\n",
    "    # victim race\n",
    "    ds = ds[ds.victim_race != 'Unknown']\n",
    "\n",
    "    # weapon\n",
    "    ds = ds[ds.weapon != 'Unknown']\n",
    "\n",
    "    ds['weapon'] = ds.weapon.map({'Blunt Object': 1, 'Rifle': 2, 'Knife': 3,\n",
    "       'Gun': 4, 'Fire': 5, 'Suffocation': 6, 'Strangulation': 7,\n",
    "       'Explosives': 8, 'Drugs': 9, 'Drowning': 10, 'Poison': 11, 'Fall': 12,\n",
    "       'Handgun': 13, 'Firearm': 14, 'Shotgun': 15})\n",
    "    \n",
    "    # agency type\n",
    "    ds['agency_type'] = ds.agency_type.map({'Municipal Police': 1, 'Sheriff': 2, 'County Police': 3, \n",
    "                        'State Police': 4, 'Special Police': 5, 'Tribal Police': 5, 'Regional Police': 6})\n",
    "    \n",
    "    # crime_solved\n",
    "    ds['crime_solved'] = (ds.crime_solved == 'Yes')\n",
    "    \n",
    "    \n",
    "    ds['victim_race'] = ds.victim_race.map({'Black': 1, 'White': 2,\n",
    "                                            'Asian/Pacific Islander': 3,\n",
    "                                            'Native American/Alaska Native':4})\n",
    "    \n",
    "    # state\n",
    "    ds['state'] = ds.state.map({'Pennsylvania': 1, 'Florida': 2, 'Illinois': 3, 'Louisiana': 4, 'California': 5,\n",
    "       'New Jersey': 6, 'Texas': 7, 'Tennessee': 8, 'Michigan': 9, 'Maryland': 10,\n",
    "       'New York': 11, 'North Carolina': 12, 'Missouri': 13, 'Ohio': 14, 'Georgia': 15,\n",
    "       'Oklahoma': 16, 'Nevada': 17, 'West Virginia': 18, 'District of Columbia': 19,\n",
    "       'Virginia': 20, 'Colorado': 21, 'Kentucky': 22, 'Minnesota': 23, 'New Mexico': 24,\n",
    "       'Arizona': 25, 'Idaho': 26, 'Oregon': 27, 'Arkansas': 28, 'Indiana': 29, 'Wisconsin': 30,\n",
    "       'Mississippi': 31, 'Connecticut': 32, 'Washington': 33, 'Maine': 34,\n",
    "       'Massachusetts': 35, 'Iowa': 36, 'South Carolina': 37, 'Alabama': 38, 'Nebraska': 39,\n",
    "       'Alaska': 40, 'Utah': 41, 'Delaware': 42, 'Hawaii': 43, 'Vermont': 44, 'Wyoming': 45,\n",
    "       'Rhodes Island': 46, 'Kansas': 47, 'Montana': 48, 'New Hampshire': 49,\n",
    "       'North Dakota': 50, 'South Dakota': 51})\n",
    "    \n",
    "    # crime solved\n",
    "    ds['crime_type'] = ds.crime_type.map({'Murder or Manslaughter': 1, 'Manslaughter by Negligence': 2})\n",
    "    \n",
    "    # victim sex\n",
    "    ds['victim_sex'] = ds.victim_sex.map({'Male': 1, 'Female': 2})\n",
    "    \n",
    "    inputs = ds.drop(columns=['crime_solved'])\n",
    "    outputs = ds.crime_solved\n",
    "    \n",
    "    return [inputs.values, outputs.values]"
   ]
  },
  {
   "cell_type": "code",
   "execution_count": 167,
   "metadata": {},
   "outputs": [
    {
     "data": {
      "text/plain": [
       "DecisionTreeClassifier(class_weight=None, criterion='gini', max_depth=15,\n",
       "            max_features=None, max_leaf_nodes=None,\n",
       "            min_impurity_decrease=0.0, min_impurity_split=None,\n",
       "            min_samples_leaf=1, min_samples_split=2,\n",
       "            min_weight_fraction_leaf=0.0, presort=False, random_state=None,\n",
       "            splitter='best')"
      ]
     },
     "execution_count": 167,
     "metadata": {},
     "output_type": "execute_result"
    }
   ],
   "source": [
    "from sklearn.tree import DecisionTreeClassifier\n",
    "\n",
    "dt_classifier = DecisionTreeClassifier(max_depth=15);\n",
    "\n",
    "inputs, outputs = dt_extract_inputs_outputs(train)\n",
    "dt_classifier.fit(inputs, outputs)"
   ]
  },
  {
   "cell_type": "code",
   "execution_count": 168,
   "metadata": {},
   "outputs": [
    {
     "name": "stdout",
     "output_type": "stream",
     "text": [
      "Model evaluation on dataset:train\n",
      "Accuracy score: 0.8237883156802848\n",
      "Precision score: 0.7837105775682885\n"
     ]
    },
    {
     "data": {
      "image/png": "[encoded data removed]",
      "text/plain": [
       "<Figure size 216x288 with 1 Axes>"
      ]
     },
     "metadata": {},
     "output_type": "display_data"
    },
    {
     "name": "stdout",
     "output_type": "stream",
     "text": [
      "Model evaluation on dataset:test\n",
      "Accuracy score: 0.7913230822028808\n",
      "Precision score: 0.7553661512084144\n"
     ]
    },
    {
     "data": {
      "image/png": "[encoded data removed]",
      "text/plain": [
       "<Figure size 216x288 with 1 Axes>"
      ]
     },
     "metadata": {},
     "output_type": "display_data"
    },
    {
     "name": "stdout",
     "output_type": "stream",
     "text": [
      "Model evaluation on dataset:validation\n",
      "Accuracy score: 0.788010400891505\n",
      "Precision score: 0.7520363331194155\n"
     ]
    },
    {
     "data": {
      "image/png": "[encoded data removed]",
      "text/plain": [
       "<Figure size 216x288 with 1 Axes>"
      ]
     },
     "metadata": {},
     "output_type": "display_data"
    }
   ],
   "source": [
    "evaluate_model(dt_classifier, dt_extract_inputs_outputs, include_validation=True)"
   ]
  },
  {
   "cell_type": "code",
   "execution_count": null,
   "metadata": {
    "scrolled": false
   },
   "outputs": [],
   "source": [
    "import graphviz\n",
    "from sklearn.tree import export_graphviz\n",
    "\n",
    "def graph_tree(tree):\n",
    "    graph_data = export_graphviz(\n",
    "        tree, \n",
    "        out_file=None, \n",
    "        feature_names=['agency_type', 'state', 'year', 'month', 'crime_type',\n",
    "                    'victim_sex', 'victim_age', 'victim_race', 'weapon'],\n",
    "        class_names=[' Not solved', 'Solved'],\n",
    "        filled=True, \n",
    "        rounded=True,  \n",
    "        special_characters=True,\n",
    "    )\n",
    "    graph = graphviz.Source(graph_data)  \n",
    "    # graph.render('rendered_tree')\n",
    "    return graph\n",
    "\n",
    "graph_tree(dt_classifier)"
   ]
  },
  {
   "cell_type": "markdown",
   "metadata": {},
   "source": [
    "## Feature importances"
   ]
  },
  {
   "cell_type": "code",
   "execution_count": 155,
   "metadata": {},
   "outputs": [
    {
     "data": {
      "text/plain": [
       "<BarContainer object of 9 artists>"
      ]
     },
     "execution_count": 155,
     "metadata": {},
     "output_type": "execute_result"
    },
    {
     "data": {
      "image/png": "[encoded data removed]",
      "text/plain": [
       "<Figure size 432x288 with 1 Axes>"
      ]
     },
     "metadata": {},
     "output_type": "display_data"
    }
   ],
   "source": [
    "feature_importances = dt_classifier. feature_importances_\n",
    "\n",
    "plt.xticks(rotation='vertical')\n",
    "plt.bar(x=['agency_type', 'state', 'year', 'month', 'crime_type', 'victim_sex', \n",
    "           'victim_age', 'victim_race', 'weapon'], height=feature_importances)"
   ]
  },
  {
   "cell_type": "markdown",
   "metadata": {},
   "source": [
    "## Conclusions\n",
    "The model is giving an extremely big importance to the 'year' variable, followed from afar by the 'state' variable. We don't know how good is this situation. We tried to use a scaler to 'normalize' the values for the year (pretty higher than the other variables) but the result was the same.\n",
    "\n",
    "Related to the precission metric, the model achieved a better score than the Logistic Regression (**0.75** for test and validation). \n",
    "\n",
    "This score was achieved with a **max_depth** of 15. We choose that number after trying with many and seeing that: **1)** a lower depth causes worst scores and **2)** a bigger depth causes overfitting (only improves predictions on train)"
   ]
  },
  {
   "cell_type": "markdown",
   "metadata": {},
   "source": [
    "# 3rd Model: Neural Network"
   ]
  },
  {
   "cell_type": "code",
   "execution_count": 184,
   "metadata": {},
   "outputs": [],
   "source": [
    "from keras import optimizers\n",
    "from keras.models import Sequential\n",
    "from keras.layers import Dense, Activation, Input, Dropout\n",
    "from sklearn.preprocessing import StandardScaler"
   ]
  },
  {
   "cell_type": "code",
   "execution_count": 200,
   "metadata": {},
   "outputs": [],
   "source": [
    "nn_model = Sequential([   \n",
    "    Dense(500, input_shape=(84,)),\n",
    "    Activation('tanh'),\n",
    "    \n",
    "    Dropout(0.2),\n",
    "\n",
    "    Dense(500),\n",
    "    Activation('tanh'),\n",
    "    \n",
    "    Dense(1),\n",
    "    Activation('sigmoid'),\n",
    "])"
   ]
  },
  {
   "cell_type": "code",
   "execution_count": 201,
   "metadata": {},
   "outputs": [],
   "source": [
    "nn_model.compile(\n",
    "    optimizer='adam',\n",
    "    loss='binary_crossentropy',\n",
    "    metrics=['accuracy',],\n",
    ")"
   ]
  },
  {
   "cell_type": "code",
   "execution_count": null,
   "metadata": {},
   "outputs": [],
   "source": [
    "scaler = StandardScaler()\n",
    "inputs, outputs = lr_extract_inputs_outputs(train)\n",
    "inputs_test, outputs_test = lr_extract_inputs_outputs(test)\n",
    "history = nn_model.fit(\n",
    "    inputs,\n",
    "    outputs,\n",
    "    epochs=10,\n",
    "    batch_size=200,\n",
    "    validation_data=(\n",
    "        inputs_test,\n",
    "        outputs_test,\n",
    "    )\n",
    ")"
   ]
  },
  {
   "cell_type": "code",
   "execution_count": null,
   "metadata": {
    "scrolled": true
   },
   "outputs": [],
   "source": [
    "evaluate_model(nn_model, lr_extract_inputs_outputs, include_validation=True)"
   ]
  },
  {
   "cell_type": "code",
   "execution_count": null,
   "metadata": {},
   "outputs": [],
   "source": []
  }
 ],
 "metadata": {
  "kernelspec": {
   "display_name": "Python 3",
   "language": "python",
   "name": "python3"
  },
  "language_info": {
   "codemirror_mode": {
    "name": "ipython",
    "version": 3
   },
   "file_extension": ".py",
   "mimetype": "text/x-python",
   "name": "python",
   "nbconvert_exporter": "python",
   "pygments_lexer": "ipython3",
   "version": "3.5.2"
  }
 },
 "nbformat": 4,
 "nbformat_minor": 2
}
